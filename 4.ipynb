{
 "cells": [
  {
   "cell_type": "markdown",
   "metadata": {},
   "source": [
    "#### Siddhesh Badnapurkar\n",
    "#### RBT23CB016"
   ]
  },
  {
   "cell_type": "code",
   "execution_count": 1,
   "metadata": {},
   "outputs": [],
   "source": [
    "import time\n",
    "import json\n",
    "import requests\n",
    "import schedule"
   ]
  },
  {
   "cell_type": "code",
   "execution_count": 2,
   "metadata": {},
   "outputs": [],
   "source": [
    "def fetch_weather(city='London'):\n",
    "    API_KEY = 'af066b90b114b6da137b54d724ec3f03'\n",
    "    url = f'https://api.openweathermap.org/data/2.5/weather?q={city}&appid={API_KEY}&units=metric'\n",
    "    response = requests.get(url)\n",
    "    if response.status_code == 200:\n",
    "        data = response.json()\n",
    "        return {\n",
    "            'City': city,\n",
    "            'Temperature': data['main']['temp'],\n",
    "            'Humidity': data['main']['humidity'],\n",
    "            'Weather': data['weather'][0]['description']\n",
    "        }\n",
    "    return None"
   ]
  },
  {
   "cell_type": "code",
   "execution_count": null,
   "metadata": {},
   "outputs": [
    {
     "name": "stdout",
     "output_type": "stream",
     "text": [
      "{'City': 'London', 'Temperature': 10.52, 'Humidity': 85, 'Weather': 'overcast clouds'}\n",
      "{'City': 'London', 'Temperature': 10.52, 'Humidity': 85, 'Weather': 'overcast clouds'}\n",
      "{'City': 'London', 'Temperature': 10.52, 'Humidity': 85, 'Weather': 'overcast clouds'}\n",
      "{'City': 'London', 'Temperature': 10.52, 'Humidity': 85, 'Weather': 'overcast clouds'}\n",
      "{'City': 'London', 'Temperature': 10.52, 'Humidity': 85, 'Weather': 'overcast clouds'}\n",
      "{'City': 'London', 'Temperature': 10.52, 'Humidity': 85, 'Weather': 'overcast clouds'}\n",
      "{'City': 'London', 'Temperature': 10.52, 'Humidity': 85, 'Weather': 'overcast clouds'}\n",
      "{'City': 'London', 'Temperature': 10.52, 'Humidity': 85, 'Weather': 'overcast clouds'}\n"
     ]
    }
   ],
   "source": [
    "def automate_fetching():\n",
    "    weather_data = fetch_weather()\n",
    "    if weather_data:\n",
    "        print(weather_data)\n",
    "    else:\n",
    "        print('Error fetching data')\n",
    "    \n",
    "schedule.every(1).minutes.do(automate_fetching)\n",
    "\n",
    "while True:\n",
    "    schedule.run_pending()\n",
    "    time.sleep(1)"
   ]
  }
 ],
 "metadata": {
  "kernelspec": {
   "display_name": "env",
   "language": "python",
   "name": "python3"
  },
  "language_info": {
   "codemirror_mode": {
    "name": "ipython",
    "version": 3
   },
   "file_extension": ".py",
   "mimetype": "text/x-python",
   "name": "python",
   "nbconvert_exporter": "python",
   "pygments_lexer": "ipython3",
   "version": "3.12.3"
  }
 },
 "nbformat": 4,
 "nbformat_minor": 2
}
